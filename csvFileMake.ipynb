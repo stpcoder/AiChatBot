{
  "cells": [
    {
      "cell_type": "markdown",
      "metadata": {
        "id": "view-in-github",
        "colab_type": "text"
      },
      "source": [
        "<a href=\"https://colab.research.google.com/github/stpcoder/AiChatBot/blob/main/csvFileMake.ipynb\" target=\"_parent\"><img src=\"https://colab.research.google.com/assets/colab-badge.svg\" alt=\"Open In Colab\"/></a>"
      ]
    },
    {
      "cell_type": "markdown",
      "source": [
        "# **[모두의 대화👂] 학습준비 - 데이터 파일 가공하기**\n",
        "AiHub 의 **[소상공인 고객 주문 질의-응답 텍스트]('https://www.aihub.or.kr/aihubdata/data/view.do?currMenu=115&topMenu=100&aihubDataSe=realm&dataSetSn=102')**을 의도에 맞게 가공했습니다 <br/>\n",
        "\n",
        "데이터를 크게 **발화 / 의도** 로 행이 구분되어 있도록 처리했습니다 </br>\n",
        "\n",
        "또한, 의도는 크게 **(큰 범주의 의도) _ (세부적인 범주의 의도) _ (발화 목적)** 순으로 구성되어 있어, <br/> \n",
        "\n",
        "AI 의 다양한 학습을 위해 데이터를 크게 **다음과 같이 구분**했습니다. <br/>\n",
        "\n",
        "1. **first-intend** 기반의 의도 파악 <br/>\n",
        "결제, 배송 등과 같이 발화의 전반적인 분위기 파악을 위한 데이터\n",
        "\n",
        "2. **first/second-intend** 기반의 의도 파악 <br/>\n",
        "결제_취소, 결제_변경 등과 같이 세부적인 목적과 결합된 세부 의도 파악을 위한 데이터\n",
        "\n",
        "3. **third-intent** 기반의 의도 파악 <br/>\n",
        "확인, 질문 등과 같이 발화의 목적이 아닌 말투 및 의도 파악을 위한 데이터 "
      ],
      "metadata": {
        "id": "dI9MB1J4ZBZ-"
      }
    },
    {
      "cell_type": "markdown",
      "source": [
        "## PART 0. **데이터 전처리 사전준비**\n",
        "### 데이터를 이용 목적에 따라 전처리를 하기 전, 준비 과정을 거쳤습니다"
      ],
      "metadata": {
        "id": "A7YFgCMZOmjg"
      }
    },
    {
      "cell_type": "markdown",
      "source": [
        "[1] 데이터를 불러오기 위해 **구글 드라이브**에 연결했습니다"
      ],
      "metadata": {
        "id": "btcIEgCyPXx9"
      }
    },
    {
      "cell_type": "code",
      "source": [
        "from google.colab import drive\n",
        "drive.mount('/content/drive')"
      ],
      "metadata": {
        "colab": {
          "base_uri": "https://localhost:8080/"
        },
        "id": "44FRkRyWZD6q",
        "outputId": "dace294b-b4be-4b62-dbeb-30f7108fc5f8"
      },
      "execution_count": null,
      "outputs": [
        {
          "output_type": "stream",
          "name": "stdout",
          "text": [
            "Drive already mounted at /content/drive; to attempt to forcibly remount, call drive.mount(\"/content/drive\", force_remount=True).\n"
          ]
        }
      ]
    },
    {
      "cell_type": "markdown",
      "source": [
        "[2] **데이터 가공에 필요한 모듈**들을 불러왔습니다"
      ],
      "metadata": {
        "id": "EpfEeFm6QHJ9"
      }
    },
    {
      "cell_type": "code",
      "source": [
        "from sklearn.model_selection import train_test_split\n",
        "import numpy as np\n",
        "import csv\n",
        "import os\n",
        "import pandas as pd\n",
        "import random\n",
        "%matplotlib inline\n",
        "import matplotlib.pyplot as plt\n",
        "import seaborn as sns"
      ],
      "metadata": {
        "id": "1lBDuWemQGkO"
      },
      "execution_count": null,
      "outputs": []
    },
    {
      "cell_type": "markdown",
      "source": [
        "[3] 가공할 데이터 **파일 리스트 불러오기**"
      ],
      "metadata": {
        "id": "4EhEv-TmQCDq"
      }
    },
    {
      "cell_type": "code",
      "execution_count": null,
      "metadata": {
        "scrolled": true,
        "colab": {
          "base_uri": "https://localhost:8080/"
        },
        "id": "ozI7CD19ZBaB",
        "outputId": "908ba98b-1782-4272-b1c1-dd54481926e6"
      },
      "outputs": [
        {
          "output_type": "execute_result",
          "data": {
            "text/plain": [
              "['/content/drive/MyDrive/Colab Notebooks/data/기타_train.csv',\n",
              " '/content/drive/MyDrive/Colab Notebooks/data/디지털가전_train.csv',\n",
              " '/content/drive/MyDrive/Colab Notebooks/data/병원_train.csv',\n",
              " '/content/drive/MyDrive/Colab Notebooks/data/뷰티_train.csv',\n",
              " '/content/drive/MyDrive/Colab Notebooks/data/생활잡화_train.csv',\n",
              " '/content/drive/MyDrive/Colab Notebooks/data/슈퍼_train.csv',\n",
              " '/content/drive/MyDrive/Colab Notebooks/data/음식점_train.csv',\n",
              " '/content/drive/MyDrive/Colab Notebooks/data/식품_train.csv',\n",
              " '/content/drive/MyDrive/Colab Notebooks/data/의류_train.csv',\n",
              " '/content/drive/MyDrive/Colab Notebooks/data/출산육아_train.csv',\n",
              " '/content/drive/MyDrive/Colab Notebooks/data/카페_train.csv',\n",
              " '/content/drive/MyDrive/Colab Notebooks/data/패션_train.csv']"
            ]
          },
          "metadata": {},
          "execution_count": 185
        }
      ],
      "source": [
        "fileDir = '/content/drive/MyDrive/Colab Notebooks/data'\n",
        "fileList = os.listdir(fileDir)\n",
        "fileList = fileList[2:]\n",
        "\n",
        "for i, file in enumerate(fileList):\n",
        "    fileList[i] = fileDir + '/' + file\n",
        "\n",
        "fileList"
      ]
    },
    {
      "cell_type": "markdown",
      "source": [
        "[4] 읽어온 파일 이름들을 토대로 각 파일을 열어 **모든 데이터를 pandas dataframe** 의 형태로 합쳤습니다."
      ],
      "metadata": {
        "id": "eD74eHRjQS7U"
      }
    },
    {
      "cell_type": "code",
      "source": [
        "allData = []\n",
        "lenCnt = 0\n",
        "\n",
        "for file in fileList:\n",
        "    fields = ['발화문', '인텐트']\n",
        "    df = pd.read_csv(file, skipinitialspace=True, error_bad_lines=False, usecols=fields)\n",
        "    print(\"파일 이름 : \", file.split(\"/\")[-1] , \" 데이터 수 : \", len(df))\n",
        "    allData.append(df)\n",
        "    print(df.head(2))\n",
        "    lenCnt += len(df)"
      ],
      "metadata": {
        "colab": {
          "base_uri": "https://localhost:8080/"
        },
        "id": "kKU3jOpQQeAn",
        "outputId": "b8742465-c385-41dc-efe8-67f826392a4f"
      },
      "execution_count": null,
      "outputs": [
        {
          "output_type": "stream",
          "name": "stderr",
          "text": [
            "/usr/local/lib/python3.7/dist-packages/IPython/core/interactiveshell.py:3326: FutureWarning: The error_bad_lines argument has been deprecated and will be removed in a future version.\n",
            "\n",
            "\n",
            "  exec(code_obj, self.user_global_ns, self.user_ns)\n"
          ]
        },
        {
          "output_type": "stream",
          "name": "stdout",
          "text": [
            "파일 이름 :  기타_train.csv  데이터 수 :  156399\n",
            "                       발화문       인텐트\n",
            "0        휴대폰 할인마트요 그 뒷골목 아  제품_일반_확인\n",
            "1  샤워봉에 고정하는 거 그거 말씀하시는 거죠  제품_일반_확인\n"
          ]
        },
        {
          "output_type": "stream",
          "name": "stderr",
          "text": [
            "/usr/local/lib/python3.7/dist-packages/IPython/core/interactiveshell.py:3326: FutureWarning: The error_bad_lines argument has been deprecated and will be removed in a future version.\n",
            "\n",
            "\n",
            "  exec(code_obj, self.user_global_ns, self.user_ns)\n"
          ]
        },
        {
          "output_type": "stream",
          "name": "stdout",
          "text": [
            "파일 이름 :  디지털가전_train.csv  데이터 수 :  742995\n",
            "                   발화문       인텐트\n",
            "0               아 그래요?  제품_일반_확인\n",
            "1  네 지금 이제품이 베스트 제품인데요  제품_일반_확인\n"
          ]
        },
        {
          "output_type": "stream",
          "name": "stderr",
          "text": [
            "/usr/local/lib/python3.7/dist-packages/IPython/core/interactiveshell.py:3326: FutureWarning: The error_bad_lines argument has been deprecated and will be removed in a future version.\n",
            "\n",
            "\n",
            "  exec(code_obj, self.user_global_ns, self.user_ns)\n"
          ]
        },
        {
          "output_type": "stream",
          "name": "stdout",
          "text": [
            "파일 이름 :  병원_train.csv  데이터 수 :  128155\n",
            "                                                 발화문       인텐트\n",
            "0  그래서 그럴수도 있겠네요 정형외과 약을 많이 드시면 위가 상해서 역류할 순 있거든요...  제품_일반_확인\n",
            "1                                                  네  제품_일반_확인\n"
          ]
        },
        {
          "output_type": "stream",
          "name": "stderr",
          "text": [
            "/usr/local/lib/python3.7/dist-packages/IPython/core/interactiveshell.py:3326: FutureWarning: The error_bad_lines argument has been deprecated and will be removed in a future version.\n",
            "\n",
            "\n",
            "  exec(code_obj, self.user_global_ns, self.user_ns)\n"
          ]
        },
        {
          "output_type": "stream",
          "name": "stdout",
          "text": [
            "파일 이름 :  뷰티_train.csv  데이터 수 :  249634\n",
            "                       발화문       인텐트\n",
            "0  고객님 어떤 마사리로 하실지 상담받으셨죠?  제품_일반_확인\n",
            "1            네 지난주에 상담받았어요  제품_일반_확인\n"
          ]
        },
        {
          "output_type": "stream",
          "name": "stderr",
          "text": [
            "/usr/local/lib/python3.7/dist-packages/IPython/core/interactiveshell.py:3326: FutureWarning: The error_bad_lines argument has been deprecated and will be removed in a future version.\n",
            "\n",
            "\n",
            "  exec(code_obj, self.user_global_ns, self.user_ns)\n"
          ]
        },
        {
          "output_type": "stream",
          "name": "stdout",
          "text": [
            "파일 이름 :  생활잡화_train.csv  데이터 수 :  652520\n",
            "                                                 발화문       인텐트\n",
            "0                                           어찌된 건가요?  제품_일반_확인\n",
            "1  문의 주셔서 감사합니다. 안타깝게도 2건 이상 구매 시 추가 증정 확인되며 중복 증...  제품_일반_확인\n"
          ]
        },
        {
          "output_type": "stream",
          "name": "stderr",
          "text": [
            "/usr/local/lib/python3.7/dist-packages/IPython/core/interactiveshell.py:3326: FutureWarning: The error_bad_lines argument has been deprecated and will be removed in a future version.\n",
            "\n",
            "\n",
            "  exec(code_obj, self.user_global_ns, self.user_ns)\n"
          ]
        },
        {
          "output_type": "stream",
          "name": "stdout",
          "text": [
            "파일 이름 :  슈퍼_train.csv  데이터 수 :  271723\n",
            "                                                 발화문       인텐트\n",
            "0  서울이요? 기본 중량같은 경우에 기본요금이 이천육백원이거든요 근데 서울은 외지라서 ...  배송_비용_질문\n",
            "1                                       여기 얼마이상 배달되요  배송_비용_질문\n"
          ]
        },
        {
          "output_type": "stream",
          "name": "stderr",
          "text": [
            "/usr/local/lib/python3.7/dist-packages/IPython/core/interactiveshell.py:3326: FutureWarning: The error_bad_lines argument has been deprecated and will be removed in a future version.\n",
            "\n",
            "\n",
            "  exec(code_obj, self.user_global_ns, self.user_ns)\n"
          ]
        },
        {
          "output_type": "stream",
          "name": "stdout",
          "text": [
            "파일 이름 :  음식점_train.csv  데이터 수 :  290387\n",
            "                       발화문       인텐트\n",
            "0    참치타다끼샐러드는 취소했었는데, 맞죠?  주문_취소_확인\n",
            "1  네, 참치타다끼샐러드는 취소된 상태입니다.  주문_취소_확인\n"
          ]
        },
        {
          "output_type": "stream",
          "name": "stderr",
          "text": [
            "/usr/local/lib/python3.7/dist-packages/IPython/core/interactiveshell.py:3326: FutureWarning: The error_bad_lines argument has been deprecated and will be removed in a future version.\n",
            "\n",
            "\n",
            "  exec(code_obj, self.user_global_ns, self.user_ns)\n"
          ]
        },
        {
          "output_type": "stream",
          "name": "stdout",
          "text": [
            "파일 이름 :  식품_train.csv  데이터 수 :  434312\n",
            "                                                 발화문       인텐트\n",
            "0  컵밥 2만원 이상을 사면 무료 배송으로 아는데 여기가 죽도 추가로 몇 개 더 주문해...  배송_비용_질문\n",
            "1    박스에 합포가 되지 않을 수도 있어 정확한 답변 드리지 못하는 점 양해 부탁드립니다.  배송_비용_질문\n"
          ]
        },
        {
          "output_type": "stream",
          "name": "stderr",
          "text": [
            "/usr/local/lib/python3.7/dist-packages/IPython/core/interactiveshell.py:3326: FutureWarning: The error_bad_lines argument has been deprecated and will be removed in a future version.\n",
            "\n",
            "\n",
            "  exec(code_obj, self.user_global_ns, self.user_ns)\n"
          ]
        },
        {
          "output_type": "stream",
          "name": "stdout",
          "text": [
            "파일 이름 :  의류_train.csv  데이터 수 :  419428\n",
            "                                                 발화문       인텐트\n",
            "0                   아침도 아니고 밤 12시 30분에 결제한 건데도 그런가요?  주문_취소_확인\n",
            "1  네 저희가 보통 그날 12시에 발주 마감이여서요 일단 내일 물건 오는 대로 보내드릴게요.  주문_취소_확인\n"
          ]
        },
        {
          "output_type": "stream",
          "name": "stderr",
          "text": [
            "/usr/local/lib/python3.7/dist-packages/IPython/core/interactiveshell.py:3326: FutureWarning: The error_bad_lines argument has been deprecated and will be removed in a future version.\n",
            "\n",
            "\n",
            "  exec(code_obj, self.user_global_ns, self.user_ns)\n"
          ]
        },
        {
          "output_type": "stream",
          "name": "stdout",
          "text": [
            "파일 이름 :  출산육아_train.csv  데이터 수 :  358712\n",
            "                                                 발화문       인텐트\n",
            "0  각각 두 번 주문, 결재하여 하나는 취소요청했어요 나머지 하나 주문만 발송되는 거 맞죠?  주문_취소_확인\n",
            "1    주문해주신 리얼소프트 밴드 특대형 4팩 금일 오전 중 정상 출고된 것으로 확인됩니다.  주문_취소_확인\n"
          ]
        },
        {
          "output_type": "stream",
          "name": "stderr",
          "text": [
            "/usr/local/lib/python3.7/dist-packages/IPython/core/interactiveshell.py:3326: FutureWarning: The error_bad_lines argument has been deprecated and will be removed in a future version.\n",
            "\n",
            "\n",
            "  exec(code_obj, self.user_global_ns, self.user_ns)\n"
          ]
        },
        {
          "output_type": "stream",
          "name": "stdout",
          "text": [
            "파일 이름 :  카페_train.csv  데이터 수 :  169633\n",
            "                   발화문       인텐트\n",
            "0  고객님 혹시 무슨 문제 있으신가요?  제품_불량_질문\n",
            "1               네 이상해요  제품_불량_질문\n"
          ]
        },
        {
          "output_type": "stream",
          "name": "stderr",
          "text": [
            "/usr/local/lib/python3.7/dist-packages/IPython/core/interactiveshell.py:3326: FutureWarning: The error_bad_lines argument has been deprecated and will be removed in a future version.\n",
            "\n",
            "\n",
            "  exec(code_obj, self.user_global_ns, self.user_ns)\n"
          ]
        },
        {
          "output_type": "stream",
          "name": "stdout",
          "text": [
            "파일 이름 :  패션_train.csv  데이터 수 :  200777\n",
            "                    발화문       인텐트\n",
            "0  여닫이문의 높이가 다른데 하자인가요?  제품_불량_질문\n",
            "1  하자가 아닙니다. 다시 고정해드릴게요  제품_불량_질문\n"
          ]
        }
      ]
    },
    {
      "cell_type": "markdown",
      "source": [
        "## PART 1. **first-intend 데이터 전처리**\n",
        "\n",
        "### 다소 큰 범위로 분류된 **intent의 first type에 맞춰** 데이터를 분류했습니다"
      ],
      "metadata": {
        "id": "pUpqzyEqM8fY"
      }
    },
    {
      "cell_type": "markdown",
      "source": [
        "[1] 위에서 array로 allData에 저장된 파일을 **dataframe으로 불러왔습니다**"
      ],
      "metadata": {
        "id": "UFbRpUL-NXVi"
      }
    },
    {
      "cell_type": "code",
      "source": [
        "dataCombine = pd.concat(allData) #dataframe 형식으로 변환"
      ],
      "metadata": {
        "id": "VyG40lpSBcmo"
      },
      "execution_count": null,
      "outputs": []
    },
    {
      "cell_type": "markdown",
      "source": [
        "[2] 데이터에서 분류된 **모든 first-intent**를 알아보았습니다"
      ],
      "metadata": {
        "id": "-f_XGKT2Qr6n"
      }
    },
    {
      "cell_type": "code",
      "execution_count": null,
      "metadata": {
        "scrolled": true,
        "colab": {
          "base_uri": "https://localhost:8080/"
        },
        "id": "4deAPbZFZBaC",
        "outputId": "d4b60213-e6de-4051-f7bc-cc1329e335c8"
      },
      "outputs": [
        {
          "output_type": "stream",
          "name": "stdout",
          "text": [
            "{'매장', '부가서비스', 'AS', '구매', '수술|입퇴원', '주문', '멤버십', '행사', '수납', '예약', '결제', '제품', '포장', '외래', '교환|반품|환불', '웹사이트', '배송'}\n"
          ]
        }
      ],
      "source": [
        "forCheck = set()\n",
        "for data in dataCombine.인텐트.unique():\n",
        "    forCheck.add(data.split(\"_\")[0]) #first-intent set 생성\n",
        "print(forCheck)"
      ]
    },
    {
      "cell_type": "markdown",
      "source": [
        "[3] 데이터 중 이용하고자 하는 **소상공인과 관련이 없는 intent**를 가진 행들을 삭제하였습니다."
      ],
      "metadata": {
        "id": "vS6aHmvURein"
      }
    },
    {
      "cell_type": "code",
      "execution_count": null,
      "metadata": {
        "scrolled": true,
        "colab": {
          "base_uri": "https://localhost:8080/"
        },
        "id": "qrc6T6qSZBaD",
        "outputId": "96398ea5-2515-458e-98b5-57504fc127f1"
      },
      "outputs": [
        {
          "output_type": "stream",
          "name": "stdout",
          "text": [
            "------------------------삭제될 intent----------------------\n",
            "수술|입퇴원  :  ['수술|입퇴원_생활_질문', '수술|입퇴원_방법_질문', '수술|입퇴원_비용_질문', '수술|입퇴원_비용_요청', '수술|입퇴원_정보_질문', '수술|입퇴원_예약_요청', '수술|입퇴원_정보_요청', '수술|입퇴원_예약_질문', '수술|입퇴원_방법_요청', '수술|입퇴원_생활_요청']\n",
            "부가서비스  :  ['부가서비스_날짜_요청', '부가서비스_비용_요청', '부가서비스_방법_질문', '부가서비스_방법_요청', '부가서비스_비용_질문', '부가서비스_날짜_질문']\n",
            "행사  :  ['행사_기간_확인', '행사_일반_요청', '행사_기간_질문', '행사_유형_요청', '행사_유형_확인', '행사_일반_질문', '행사_일반_확인', '행사_유형_질문', '행사_기간_요청', '행사_날짜_요청', '행사_정보_질문', '행사_날짜_질문', '행사_유형_비교', '행사_기간_비교', '행사_일반_비교', '행사_정보_요청', '행사_정보_확인', '행사_정보_비교', '행사_날짜_확인']\n",
            "외래  :  ['외래_시간_질문', '외래_예약_요청', '외래_방법_질문', '외래_방법_요청', '외래_예약_질문', '외래_시간_요청', '외래_비용_요청', '외래_비용_질문', '외래_정보_요청', '외래_정보_질문']\n",
            "웹사이트  :  ['웹사이트_가입_요청', '웹사이트_사용_확인', '웹사이트_사용_요청', '웹사이트_사용_질문', '웹사이트_가입_질문', '웹사이트_오류_질문', '웹사이트_오류_비교', '웹사이트_오류_확인', '웹사이트_오류_요청', '웹사이트_사용_비교', '웹사이트_가입_확인']\n",
            "멤버십  :  ['멤버십_사용_요청', '멤버십_오류_요청', '멤버십_일반_요청', '멤버십_일반_비교', '멤버십_적립_요청', '멤버십_사용_확인', '멤버십_가입_질문', '멤버십_사용_질문', '멤버십_일반_확인', '멤버십_일반_질문', '멤버십_적립_확인', '멤버십_적립_질문', '멤버십_가입_확인', '멤버십_가입_요청', '멤버십_오류_질문', '멤버십_사용_비교', '멤버십_오류_확인']\n",
            "수납  :  ['수납_방법_질문', '수납_원무_요청', '수납_방법_요청', '수납_원무_질문']\n",
            "AS  :  ['AS_비용_질문', 'AS_시간_질문', 'AS_일반_질문', 'AS_시간_요청', 'AS_시간_확인', 'AS_방법_확인', 'AS_일반_요청', 'AS_일반_확인', 'AS_비용_확인', 'AS_방법_요청', 'AS_비용_비교', 'AS_방법_질문', 'AS_시간_비교', 'AS_날짜_요청', 'AS_날짜_질문', 'AS_비용_요청']\n",
            "\n",
            "-------------필요없는 intent 제거 후 남은 intent-----------\n",
            "{'매장', '구매', '주문', '예약', '결제', '제품', '포장', '교환|반품|환불', '배송'}\n"
          ]
        }
      ],
      "source": [
        "print(\"------------------------삭제될 intent----------------------\")\n",
        "deleteList = ['수술|입퇴원', '부가서비스', '행사', '외래', '웹사이트', '멤버십', '수납', 'AS']\n",
        "deleteKeyList = []\n",
        "everyKeyList = dataCombine.인텐트.unique()\n",
        "for deleteElement in deleteList: #각 원소별로 반복하며 제거\n",
        "    checkList = [ i for i in everyKeyList if i.startswith(deleteElement) == True ]\n",
        "    print(deleteElement, ' : ', checkList)\n",
        "    for check in checkList:\n",
        "        mask = dataCombine['인텐트'].isin([check]) #특정 intent를 가진 row의 loc을 mask에 저장\n",
        "        dataCombine = dataCombine[~mask] #mask 에 해당하지 않은 데이터만 추출\n",
        "\n",
        "print(\"\\n-------------필요없는 intent 제거 후 남은 intent-----------\")        \n",
        "forCheck = set()\n",
        "for data in dataCombine.인텐트.unique():\n",
        "    forCheck.add(data.split(\"_\")[0]) #남아있는 intent들만 추출\n",
        "print(forCheck)"
      ]
    },
    {
      "cell_type": "markdown",
      "source": [
        "[4] 이용하는 first-intent 중 세부 사항으로 구분된 항목들을 **index 의 숫자들로 파싱**했습니다"
      ],
      "metadata": {
        "id": "moPr8DltN7pr"
      }
    },
    {
      "cell_type": "code",
      "execution_count": null,
      "metadata": {
        "colab": {
          "base_uri": "https://localhost:8080/"
        },
        "id": "vgrYhyvVZBaD",
        "outputId": "7b5f29f4-f0cc-41c9-e4f4-1cf9c5fb8aa3"
      },
      "outputs": [
        {
          "output_type": "stream",
          "name": "stdout",
          "text": [
            "결제  :  ['결제_일반_질문', '결제_추가_요청', '결제_할인_질문', '결제_수단_질문', '결제_일반_확인', '결제_일반_요청', '결제_수단_요청', '결제_일반_비교', '결제_오류_질문', '결제_재결제_확인', '결제_방식_확인', '결제_영수증_확인', '결제_취소_질문', '결제_취소_요청', '결제_할인_요청', '결제_시기_요청', '결제_할인_확인', '결제_추가_확인', '결제_시기_질문', '결제_수단_비교', '결제_영수증_질문', '결제_할인_비교', '결제_추가_질문', '결제_재결제_질문', '결제_영수증_요청', '결제_재결제_요청', '결제_수단_확인', '결제_방식_요청', '결제_방식_질문', '결제_추가_비교', '결제_시기_확인', '결제_오류_비교', '결제_방식_비교', '결제_오류_요청', '결제_오류_확인', '결제_시기_비교', '결제_취소_확인']\n",
            "배송  :  ['배송_택배사_질문', '배송_날짜_요청', '배송_오류_질문', '배송_비용_확인', '배송_날짜_질문', '배송_방법_확인', '배송_일반_확인', '배송_방법_비교', '배송_비용_질문', '배송_날짜_확인', '배송_방법_질문', '배송_일반_요청', '배송_지역_요청', '배송_방법_요청', '배송_지역_확인', '배송_비용_요청', '배송_일반_질문', '배송_지역_질문', '배송_날짜_비교', '배송_택배사_확인', '배송_택배사_요청', '배송_비용_비교', '배송_오류_확인', '배송_오류_요청', '배송_일반_비교', '배송_택배사_비교', '배송_오류_비교']\n",
            "예약  :  ['예약_취소_질문', '예약_취소_요청', '예약_방법_확인', '예약_취소_확인', '예약_비용_요청', '예약_방법_요청', '예약_변경_질문', '예약_변경_요청', '예약_비용_질문', '예약_변경_확인', '예약_방법_질문', '예약_비용_확인']\n",
            "제품  :  ['제품_일반_확인', '제품_추천_질문', '제품_용도_확인', '제품_구성_비교', '제품_소재_확인', '제품_입고_질문', '제품_원산지_비교', '제품_용도_요청', '제품_재고_요청', '제품_원산지_질문', '제품_날짜_요청', '제품_일반_비교', '제품_재고_확인', '제품_가격_확인', '제품_호환_요청', '제품_구성_요청', '제품_품질_질문', '제품_원산지_확인', '제품_불량_요청', '제품_소재_요청', '제품_품질_확인', '제품_입고_요청', '제품_정보_확인', '제품_방법_확인', '제품_용도_비교', '제품_원산지_요청', '제품_정보_요청', '제품_가격_요청', '제품_구성_질문', '제품_용도_질문', '제품_소재_질문', '제품_방법_요청', '제품_불량_질문', '제품_불량_확인', '제품_호환_확인', '제품_호환_질문', '제품_정보_질문', '제품_구성_확인', '제품_가격_질문', '제품_재고_질문', '제품_방법_질문', '제품_품질_요청', '제품_품질_비교', '제품_가격_비교', '제품_호환_비교', '제품_추천_확인', '제품_추천_비교', '제품_재고_비교', '제품_날짜_확인', '제품_소재_비교', '제품_날짜_질문', '제품_정보_비교', '제품_추천_요청', '제품_일반_요청', '제품_방법_비교', '제품_입고_확인', '제품_일반_질문', '제품_시용_질문', '제품_커스텀_질문', '제품_날짜_비교', '제품_커스텀_요청', '제품_불량_비교', '제품_시용_요청', '제품_입고_비교', '제품_구매_요청', '제품_구매_질문', '제품_시용_확인', '제품_커스텀_확인']\n",
            "주문  :  ['주문_취소_확인', '주문_변경_확인', '주문_오류_확인', '주문_비품_확인', '주문_오류_요청', '주문_추가_질문', '주문_변경_질문', '주문_추가_요청', '주문_취소_요청', '주문_오류_질문', '주문_비품_질문', '주문_제품_요청', '주문_비품_요청', '주문_취소_질문', '주문_제품_질문', '주문_추가_확인', '주문_제품_확인', '주문_변경_요청']\n",
            "포장  :  ['포장_일반_확인', '포장_비용_요청', '포장_방식_확인', '포장_일반_질문', '포장_방식_요청', '포장_비용_확인', '포장_일반_요청', '포장_방식_비교', '포장_방식_질문', '포장_일반_비교', '포장_비용_비교', '포장_비용_질문']\n",
            "구매  :  ['구매_예약_요청', '구매_제품_요청', '구매_예약_질문', '구매_제품_질문', '구매_오류_요청', '구매_변경_요청', '구매_변경_질문', '구매_제품_확인', '구매_변경_확인', '구매_추가_확인', '구매_오류_확인', '구매_추가_요청', '구매_취소_질문', '구매_추가_질문', '구매_취소_확인', '구매_취소_요청', '구매_오류_질문']\n",
            "교환|반품|환불  :  ['교환|반품|환불_일반_요청', '교환|반품|환불_시간_확인', '교환|반품|환불_일반_질문', '교환|반품|환불_일반_확인', '교환|반품|환불_방법_확인', '교환|반품|환불_비용_질문', '교환|반품|환불_방법_요청', '교환|반품|환불_시간_질문', '교환|반품|환불_방법_질문', '교환|반품|환불_시간_비교', '교환|반품|환불_비용_확인', '교환|반품|환불_일반_비교', '교환|반품|환불_시간_요청', '교환|반품|환불_비용_비교', '교환|반품|환불_비용_요청', '교환|반품|환불_방법_비교', '교환|반품|환불_날짜_질문', '교환|반품|환불_날짜_요청']\n",
            "매장  :  ['매장_정보_질문', '매장_이용_요청', '매장_정보_요청', '매장_이용_질문', '매장_구조_요청', '매장_구조_질문', '매장_정보_확인', '매장_정보_비교', '매장_이용_확인', '매장_부대시설_요청', '매장_부대시설_확인', '매장_이용_비교', '매장_부대시설_질문']\n"
          ]
        }
      ],
      "source": [
        "chgList = ['결제' , '배송' , '예약', '제품', '주문', '포장', '구매', '교환|반품|환불', '매장']\n",
        "chgKeyList = []\n",
        "everyKeyList = dataCombine.인텐트.unique()\n",
        "\n",
        "for i, chgElement in enumerate(chgList):\n",
        "    checkList = [ i for i in everyKeyList if i.startswith(chgElement) == True ] #first-intent 를 가진 value들의 list 생성\n",
        "    print(chgElement, ' : ', checkList)\n",
        "    for check in checkList:\n",
        "        mask = dataCombine['인텐트'].isin([check]) #특정 intent를 가진 원소들의 mask 생성\n",
        "        dataCombine['인텐트'][mask] = i #index에 해당하는 숫자로 대체"
      ]
    },
    {
      "cell_type": "markdown",
      "source": [
        "[5] 인공지능의 학습 중 오류 제거를 위해 **특수문자를 제거**하고 학습 시간을 위해 **발화문의 길이를 64로 제한**했습니다"
      ],
      "metadata": {
        "id": "k_oRAB0VOFpo"
      }
    },
    {
      "cell_type": "code",
      "source": [
        "dataCombine[\"발화문\"] = dataCombine[\"발화문\"].str.replace(pat=r'[^\\w]', repl=r'', regex=True) #정규식을 활용하여 특수문자 제거\n",
        "mask = dataCombine['발화문'].str.len() < 65 #발화문의 길이를 64자 이내로 제한하는 mask 생성\n",
        "dataCombine = dataCombine.loc[mask] #mask를 사용한 길이 제한"
      ],
      "metadata": {
        "id": "8vLW2YthBt0I"
      },
      "execution_count": null,
      "outputs": []
    },
    {
      "cell_type": "markdown",
      "source": [
        "[6] 올바른 학습이 진행되도록 각 value 별 row 의 개수를 **가장 작은 원소의 개수**로 통일했습니다"
      ],
      "metadata": {
        "id": "nLvVaq7OOW44"
      }
    },
    {
      "cell_type": "code",
      "source": [
        "minCnt = min(dataCombine.인텐트.value_counts())\n",
        "dfList = []\n",
        "for value in dataCombine.인텐트.unique():\n",
        "  newDf = dataCombine[dataCombine['인텐트'] == value] #각 first-intent의 index에 해당하는 원소 리스트 생성\n",
        "  newDf = newDf.sample(n=minCnt) #minCnt에 맞춰 데이터 추출\n",
        "  dfList.append(newDf) #df 리스트에 생성된 각 df 추가\n",
        "dataCombine = pd.concat(dfList, ignore_index=True)\n",
        "dataCombine.인텐트.value_counts() #intent 별 맞춰진 개수를 확인"
      ],
      "metadata": {
        "colab": {
          "base_uri": "https://localhost:8080/"
        },
        "id": "hCvjj768Bwov",
        "outputId": "c84a8467-38f6-4884-9fc9-646e697f3bd1"
      },
      "execution_count": null,
      "outputs": [
        {
          "output_type": "execute_result",
          "data": {
            "text/plain": [
              "3    18704\n",
              "7    18704\n",
              "0    18704\n",
              "5    18704\n",
              "1    18704\n",
              "6    18704\n",
              "8    18704\n",
              "4    18704\n",
              "2    18704\n",
              "Name: 인텐트, dtype: int64"
            ]
          },
          "metadata": {},
          "execution_count": 192
        }
      ]
    },
    {
      "cell_type": "markdown",
      "source": [
        "[7] train 데이터의 수를 **60,000개로 맞추기 위해** **0.4 비율로 추출**했으며 train 과 test를 **4대 1로** 맞췄습니다"
      ],
      "metadata": {
        "id": "jD0pmnLvQCou"
      }
    },
    {
      "cell_type": "code",
      "source": [
        "randomState = random.randrange(1, 1000) #랜덤 시드를 위한 난수 생성\n",
        "dataCombine = dataCombine.sample(frac=1)\n",
        "\n",
        "firstTypeTrain = dataCombine.sample(frac=0.4, random_state=randomState) #개수를 위한 비율 맞추기\n",
        "mask = dataCombine['발화문'].isin( firstTypeTrain['발화문'] )\n",
        "dataCombine = dataCombine[~mask] #추출된 데이터를 제외한 데이터 선정\n",
        "mask = dataCombine['발화문']\n",
        "firstTypeTest = dataCombine.sample(frac=0.1, random_state=randomState) #새롭게 10프로 비율로 데이터 추출\n",
        "print(\"train 개수 : \", len(firstTypeTrain), \" test 개수 : \", len(firstTypeTest))"
      ],
      "metadata": {
        "colab": {
          "base_uri": "https://localhost:8080/"
        },
        "id": "pat7JvJ-CvOM",
        "outputId": "933a6bd1-6cdd-4178-d685-07b499dd8b2e"
      },
      "execution_count": null,
      "outputs": [
        {
          "output_type": "stream",
          "name": "stdout",
          "text": [
            "train 개수 :  67334  test 개수 :  9094\n"
          ]
        }
      ]
    },
    {
      "cell_type": "markdown",
      "source": [
        "[8] train 과 test **모두 균일한 분포**를 맞춘 것을 확인할 수 있습니다"
      ],
      "metadata": {
        "id": "2frgLE9jRoj2"
      }
    },
    {
      "cell_type": "code",
      "source": [
        "fig, axe = plt.subplots(ncols=1)\n",
        "sns.countplot(x = firstTypeTrain.인텐트)"
      ],
      "metadata": {
        "colab": {
          "base_uri": "https://localhost:8080/",
          "height": 499
        },
        "outputId": "8f8e3bc4-d23b-498d-e1c6-72726b7258ba",
        "id": "prCouQuoRoj2"
      },
      "execution_count": null,
      "outputs": [
        {
          "output_type": "execute_result",
          "data": {
            "text/plain": [
              "<matplotlib.axes._subplots.AxesSubplot at 0x7fdfff247fd0>"
            ]
          },
          "metadata": {},
          "execution_count": 194
        },
        {
          "output_type": "stream",
          "name": "stderr",
          "text": [
            "/usr/local/lib/python3.7/dist-packages/matplotlib/backends/backend_agg.py:214: RuntimeWarning: Glyph 51064 missing from current font.\n",
            "  font.set_text(s, 0.0, flags=flags)\n",
            "/usr/local/lib/python3.7/dist-packages/matplotlib/backends/backend_agg.py:214: RuntimeWarning: Glyph 53584 missing from current font.\n",
            "  font.set_text(s, 0.0, flags=flags)\n",
            "/usr/local/lib/python3.7/dist-packages/matplotlib/backends/backend_agg.py:214: RuntimeWarning: Glyph 53944 missing from current font.\n",
            "  font.set_text(s, 0.0, flags=flags)\n",
            "/usr/local/lib/python3.7/dist-packages/matplotlib/backends/backend_agg.py:183: RuntimeWarning: Glyph 51064 missing from current font.\n",
            "  font.set_text(s, 0, flags=flags)\n",
            "/usr/local/lib/python3.7/dist-packages/matplotlib/backends/backend_agg.py:183: RuntimeWarning: Glyph 53584 missing from current font.\n",
            "  font.set_text(s, 0, flags=flags)\n",
            "/usr/local/lib/python3.7/dist-packages/matplotlib/backends/backend_agg.py:183: RuntimeWarning: Glyph 53944 missing from current font.\n",
            "  font.set_text(s, 0, flags=flags)\n"
          ]
        },
        {
          "output_type": "display_data",
          "data": {
            "text/plain": [
              "<Figure size 432x288 with 1 Axes>"
            ],
            "image/png": "[encoded data removed]"
          },
          "metadata": {
            "needs_background": "light"
          }
        }
      ]
    },
    {
      "cell_type": "code",
      "source": [
        "fig, axe = plt.subplots(ncols=1)\n",
        "sns.countplot(x = firstTypeTest.인텐트)"
      ],
      "metadata": {
        "colab": {
          "base_uri": "https://localhost:8080/",
          "height": 499
        },
        "outputId": "260f9576-543e-4343-a7b3-6399431b271a",
        "id": "5bFlitzHRoj3"
      },
      "execution_count": null,
      "outputs": [
        {
          "output_type": "execute_result",
          "data": {
            "text/plain": [
              "<matplotlib.axes._subplots.AxesSubplot at 0x7fe0270e2a50>"
            ]
          },
          "metadata": {},
          "execution_count": 195
        },
        {
          "output_type": "stream",
          "name": "stderr",
          "text": [
            "/usr/local/lib/python3.7/dist-packages/matplotlib/backends/backend_agg.py:214: RuntimeWarning: Glyph 51064 missing from current font.\n",
            "  font.set_text(s, 0.0, flags=flags)\n",
            "/usr/local/lib/python3.7/dist-packages/matplotlib/backends/backend_agg.py:214: RuntimeWarning: Glyph 53584 missing from current font.\n",
            "  font.set_text(s, 0.0, flags=flags)\n",
            "/usr/local/lib/python3.7/dist-packages/matplotlib/backends/backend_agg.py:214: RuntimeWarning: Glyph 53944 missing from current font.\n",
            "  font.set_text(s, 0.0, flags=flags)\n",
            "/usr/local/lib/python3.7/dist-packages/matplotlib/backends/backend_agg.py:183: RuntimeWarning: Glyph 51064 missing from current font.\n",
            "  font.set_text(s, 0, flags=flags)\n",
            "/usr/local/lib/python3.7/dist-packages/matplotlib/backends/backend_agg.py:183: RuntimeWarning: Glyph 53584 missing from current font.\n",
            "  font.set_text(s, 0, flags=flags)\n",
            "/usr/local/lib/python3.7/dist-packages/matplotlib/backends/backend_agg.py:183: RuntimeWarning: Glyph 53944 missing from current font.\n",
            "  font.set_text(s, 0, flags=flags)\n"
          ]
        },
        {
          "output_type": "display_data",
          "data": {
            "text/plain": [
              "<Figure size 432x288 with 1 Axes>"
            ],
            "image/png": "[encoded data removed]"
          },
          "metadata": {
            "needs_background": "light"
          }
        }
      ]
    },
    {
      "cell_type": "markdown",
      "source": [
        "[9] 생성된 train 과 test dataframe 을 **tsv 형식의 파일로 저장**했습니다"
      ],
      "metadata": {
        "id": "Q84EXt5iRTeQ"
      }
    },
    {
      "cell_type": "code",
      "source": [
        "firstTypeTrain.to_csv('/content/drive/MyDrive/Colab Notebooks/result/firstTypeTrain.tsv', index=False, header=None, sep=\"\\t\")\n",
        "firstTypeTest.to_csv('/content/drive/MyDrive/Colab Notebooks/result/firstTypeTest.tsv', index=False, header=None, sep=\"\\t\")"
      ],
      "metadata": {
        "id": "2b3tIwmBC9z3"
      },
      "execution_count": null,
      "outputs": []
    },
    {
      "cell_type": "markdown",
      "source": [
        "## PART 2. **first/second-intent** 데이터 전처리\n",
        "\n",
        "### 큰 범주와 둘째 범주를 모두 포함하는 범위로 데이터를 전처리했습니다"
      ],
      "metadata": {
        "id": "cYmoDGgERUkY"
      }
    },
    {
      "cell_type": "markdown",
      "source": [
        "[1] 위에서 array로 allData에 저장된 파일을 **dataframe으로 불러왔습니다**"
      ],
      "metadata": {
        "id": "-fB30E1vWCvO"
      }
    },
    {
      "cell_type": "code",
      "source": [
        "newDataCombine = pd.concat(allData) #dataframe 형식으로 변환"
      ],
      "metadata": {
        "id": "70iTu5xCWCvP"
      },
      "execution_count": null,
      "outputs": []
    },
    {
      "cell_type": "markdown",
      "source": [
        "[2] 데이터에서 분류된 **모든 first/second-intent**를 알아보았습니다"
      ],
      "metadata": {
        "id": "GAjo_7VhWCvP"
      }
    },
    {
      "cell_type": "code",
      "source": [
        "forCheck = set()\n",
        "for data in newDataCombine.인텐트.unique():\n",
        "    forCheck.add(data.split(\"_\")[0]+ \"_\" + data.split(\"_\")[1])\n",
        "print(forCheck)"
      ],
      "metadata": {
        "colab": {
          "base_uri": "https://localhost:8080/"
        },
        "id": "evyY7Aymm7Gb",
        "outputId": "aa5ddbc4-c0eb-400b-ce29-290dd46c49d8"
      },
      "execution_count": null,
      "outputs": [
        {
          "output_type": "stream",
          "name": "stdout",
          "text": [
            "{'제품_입고', '제품_일반', '제품_날짜', '부가서비스_방법', '구매_추가', '구매_예약', '제품_용도', '예약_취소', '제품_방법', '주문_변경', '주문_비품', '멤버십_사용', '포장_비용', '포장_방식', '매장_부대시설', '결제_수단', '외래_시간', '배송_일반', '제품_소재', 'AS_비용', '결제_할인', '구매_오류', '구매_취소', '교환|반품|환불_날짜', '매장_이용', '예약_변경', 'AS_방법', '매장_정보', '행사_일반', '결제_일반', '교환|반품|환불_시간', '제품_정보', '웹사이트_가입', '제품_가격', '제품_구매', '행사_날짜', '주문_오류', '행사_정보', '결제_영수증', 'AS_시간', '교환|반품|환불_일반', '제품_구성', '교환|반품|환불_비용', 'AS_날짜', '결제_추가', '멤버십_일반', '제품_불량', '수납_원무', '부가서비스_날짜', '제품_커스텀', '외래_비용', '주문_제품', '수술|입퇴원_생활', '수술|입퇴원_비용', '배송_날짜', '수납_방법', '구매_변경', '제품_시용', '행사_기간', '주문_추가', '수술|입퇴원_방법', '제품_추천', '제품_품질', '결제_오류', '배송_지역', '웹사이트_사용', '멤버십_가입', '외래_예약', '배송_비용', '결제_방식', '결제_재결제', '교환|반품|환불_방법', '포장_일반', '제품_재고', '배송_방법', '수술|입퇴원_정보', 'AS_일반', '외래_방법', '멤버십_오류', '외래_정보', '부가서비스_비용', '매장_구조', '예약_비용', '결제_취소', '멤버십_적립', '행사_유형', '제품_원산지', '배송_오류', '구매_제품', '예약_방법', '배송_택배사', '주문_취소', '결제_시기', '웹사이트_오류', '수술|입퇴원_예약', '제품_호환'}\n"
          ]
        }
      ]
    },
    {
      "cell_type": "markdown",
      "source": [
        "[3] 데이터 중 이용하고자 하는 **소상공인과 관련이 없는 intent**를 가진 행들을 삭제하였습니다."
      ],
      "metadata": {
        "id": "IYuaBtW8WWvw"
      }
    },
    {
      "cell_type": "code",
      "execution_count": null,
      "metadata": {
        "scrolled": true,
        "colab": {
          "base_uri": "https://localhost:8080/"
        },
        "outputId": "e41c0b83-faec-44e0-f180-59d00d04e78c",
        "id": "mI3q5hCPVmKL"
      },
      "outputs": [
        {
          "output_type": "stream",
          "name": "stdout",
          "text": [
            "------------------------삭제될 intent----------------------\n",
            "수술|입퇴원  :  ['수술|입퇴원_생활_질문', '수술|입퇴원_방법_질문', '수술|입퇴원_비용_질문', '수술|입퇴원_비용_요청', '수술|입퇴원_정보_질문', '수술|입퇴원_예약_요청', '수술|입퇴원_정보_요청', '수술|입퇴원_예약_질문', '수술|입퇴원_방법_요청', '수술|입퇴원_생활_요청']\n",
            "부가서비스  :  ['부가서비스_날짜_요청', '부가서비스_비용_요청', '부가서비스_방법_질문', '부가서비스_방법_요청', '부가서비스_비용_질문', '부가서비스_날짜_질문']\n",
            "행사  :  ['행사_기간_확인', '행사_일반_요청', '행사_기간_질문', '행사_유형_요청', '행사_유형_확인', '행사_일반_질문', '행사_일반_확인', '행사_유형_질문', '행사_기간_요청', '행사_날짜_요청', '행사_정보_질문', '행사_날짜_질문', '행사_유형_비교', '행사_기간_비교', '행사_일반_비교', '행사_정보_요청', '행사_정보_확인', '행사_정보_비교', '행사_날짜_확인']\n",
            "외래  :  ['외래_시간_질문', '외래_예약_요청', '외래_방법_질문', '외래_방법_요청', '외래_예약_질문', '외래_시간_요청', '외래_비용_요청', '외래_비용_질문', '외래_정보_요청', '외래_정보_질문']\n",
            "웹사이트  :  ['웹사이트_가입_요청', '웹사이트_사용_확인', '웹사이트_사용_요청', '웹사이트_사용_질문', '웹사이트_가입_질문', '웹사이트_오류_질문', '웹사이트_오류_비교', '웹사이트_오류_확인', '웹사이트_오류_요청', '웹사이트_사용_비교', '웹사이트_가입_확인']\n",
            "멤버십  :  ['멤버십_사용_요청', '멤버십_오류_요청', '멤버십_일반_요청', '멤버십_일반_비교', '멤버십_적립_요청', '멤버십_사용_확인', '멤버십_가입_질문', '멤버십_사용_질문', '멤버십_일반_확인', '멤버십_일반_질문', '멤버십_적립_확인', '멤버십_적립_질문', '멤버십_가입_확인', '멤버십_가입_요청', '멤버십_오류_질문', '멤버십_사용_비교', '멤버십_오류_확인']\n",
            "수납  :  ['수납_방법_질문', '수납_원무_요청', '수납_방법_요청', '수납_원무_질문']\n",
            "AS  :  ['AS_비용_질문', 'AS_시간_질문', 'AS_일반_질문', 'AS_시간_요청', 'AS_시간_확인', 'AS_방법_확인', 'AS_일반_요청', 'AS_일반_확인', 'AS_비용_확인', 'AS_방법_요청', 'AS_비용_비교', 'AS_방법_질문', 'AS_시간_비교', 'AS_날짜_요청', 'AS_날짜_질문', 'AS_비용_요청']\n",
            "교환|반품|환불  :  ['교환|반품|환불_일반_요청', '교환|반품|환불_시간_확인', '교환|반품|환불_일반_질문', '교환|반품|환불_일반_확인', '교환|반품|환불_방법_확인', '교환|반품|환불_비용_질문', '교환|반품|환불_방법_요청', '교환|반품|환불_시간_질문', '교환|반품|환불_방법_질문', '교환|반품|환불_시간_비교', '교환|반품|환불_비용_확인', '교환|반품|환불_일반_비교', '교환|반품|환불_시간_요청', '교환|반품|환불_비용_비교', '교환|반품|환불_비용_요청', '교환|반품|환불_방법_비교', '교환|반품|환불_날짜_질문', '교환|반품|환불_날짜_요청']\n",
            "\n",
            "-------------필요없는 intent 제거 후 남은 intent-----------\n",
            "{'매장', '구매', '주문', '예약', '결제', '제품', '포장', '배송'}\n"
          ]
        }
      ],
      "source": [
        "print(\"------------------------삭제될 intent----------------------\")\n",
        "deleteList = ['수술|입퇴원', '부가서비스', '행사', '외래', '웹사이트', '멤버십', '수납', 'AS', '교환|반품|환불']\n",
        "deleteKeyList = []\n",
        "everyKeyList = newDataCombine.인텐트.unique()\n",
        "for deleteElement in deleteList: #각 원소별로 반복하며 제거\n",
        "    checkList = [ i for i in everyKeyList if i.startswith(deleteElement) == True ]\n",
        "    print(deleteElement, ' : ', checkList)\n",
        "    for check in checkList:\n",
        "        mask = newDataCombine['인텐트'].isin([check]) #특정 intent를 가진 row의 loc을 mask에 저장\n",
        "        newDataCombine = newDataCombine[~mask] #mask 에 해당하지 않은 데이터만 추출\n",
        "\n",
        "print(\"\\n-------------필요없는 intent 제거 후 남은 intent-----------\")        \n",
        "forCheck = set()\n",
        "for data in newDataCombine.인텐트.unique():\n",
        "    forCheck.add(data.split(\"_\")[0]) #남아있는 intent들만 추출\n",
        "print(forCheck)"
      ]
    },
    {
      "cell_type": "markdown",
      "source": [
        "[4] 이용하는 first/second-intent 중 세부 사항으로 구분된 항목들을 **index 의 숫자들로 파싱**했습니다"
      ],
      "metadata": {
        "id": "lbUTqeEWVmKL"
      }
    },
    {
      "cell_type": "code",
      "execution_count": null,
      "metadata": {
        "colab": {
          "base_uri": "https://localhost:8080/"
        },
        "outputId": "4c690e6d-b0a2-4ab0-c6b6-183546333db4",
        "id": "NYovPOrpVRpc"
      },
      "outputs": [
        {
          "output_type": "stream",
          "name": "stdout",
          "text": [
            "예약_취소  :  ['예약_취소_질문', '예약_취소_요청', '예약_취소_확인']\n",
            "제품_구성  :  ['제품_구성_비교', '제품_구성_요청', '제품_구성_질문', '제품_구성_확인']\n",
            "결제_할인  :  ['결제_할인_질문', '결제_할인_요청', '결제_할인_확인', '결제_할인_비교']\n",
            "배송_비용  :  ['배송_비용_확인', '배송_비용_질문', '배송_비용_요청', '배송_비용_비교']\n",
            "결제_취소  :  ['결제_취소_질문', '결제_취소_요청', '결제_취소_확인']\n",
            "주문_비품  :  ['주문_비품_확인', '주문_비품_질문', '주문_비품_요청']\n",
            "제품_방법  :  ['제품_방법_확인', '제품_방법_요청', '제품_방법_질문', '제품_방법_비교']\n",
            "예약_방법  :  ['예약_방법_확인', '예약_방법_요청', '예약_방법_질문']\n",
            "교환|반품|환불_일반  :  []\n",
            "제품_원산지  :  ['제품_원산지_비교', '제품_원산지_질문', '제품_원산지_확인', '제품_원산지_요청']\n",
            "제품_용도  :  ['제품_용도_확인', '제품_용도_요청', '제품_용도_비교', '제품_용도_질문']\n",
            "배송_날짜  :  ['배송_날짜_요청', '배송_날짜_질문', '배송_날짜_확인', '배송_날짜_비교']\n",
            "예약_비용  :  ['예약_비용_요청', '예약_비용_질문', '예약_비용_확인']\n",
            "결제_일반  :  ['결제_일반_질문', '결제_일반_확인', '결제_일반_요청', '결제_일반_비교']\n",
            "교환|반품|환불_비용  :  []\n",
            "제품_구매  :  ['제품_구매_요청', '제품_구매_질문']\n",
            "매장_부대시설  :  ['매장_부대시설_요청', '매장_부대시설_확인', '매장_부대시설_질문']\n",
            "결제_오류  :  ['결제_오류_질문', '결제_오류_비교', '결제_오류_요청', '결제_오류_확인']\n",
            "매장_정보  :  ['매장_정보_질문', '매장_정보_요청', '매장_정보_확인', '매장_정보_비교']\n",
            "결제_시기  :  ['결제_시기_요청', '결제_시기_질문', '결제_시기_확인', '결제_시기_비교']\n",
            "결제_수단  :  ['결제_수단_질문', '결제_수단_요청', '결제_수단_비교', '결제_수단_확인']\n",
            "제품_호환  :  ['제품_호환_요청', '제품_호환_확인', '제품_호환_질문', '제품_호환_비교']\n",
            "주문_추가  :  ['주문_추가_질문', '주문_추가_요청', '주문_추가_확인']\n",
            "구매_오류  :  ['구매_오류_요청', '구매_오류_확인', '구매_오류_질문']\n",
            "구매_취소  :  ['구매_취소_질문', '구매_취소_확인', '구매_취소_요청']\n",
            "제품_가격  :  ['제품_가격_확인', '제품_가격_요청', '제품_가격_질문', '제품_가격_비교']\n",
            "주문_제품  :  ['주문_제품_요청', '주문_제품_질문', '주문_제품_확인']\n",
            "제품_커스텀  :  ['제품_커스텀_질문', '제품_커스텀_요청', '제품_커스텀_확인']\n",
            "배송_오류  :  ['배송_오류_질문', '배송_오류_확인', '배송_오류_요청', '배송_오류_비교']\n",
            "결제_추가  :  ['결제_추가_요청', '결제_추가_확인', '결제_추가_질문', '결제_추가_비교']\n",
            "포장_일반  :  ['포장_일반_확인', '포장_일반_질문', '포장_일반_요청', '포장_일반_비교']\n",
            "결제_재결제  :  ['결제_재결제_확인', '결제_재결제_질문', '결제_재결제_요청']\n",
            "제품_추천  :  ['제품_추천_질문', '제품_추천_확인', '제품_추천_비교', '제품_추천_요청']\n",
            "제품_재고  :  ['제품_재고_요청', '제품_재고_확인', '제품_재고_질문', '제품_재고_비교']\n",
            "배송_지역  :  ['배송_지역_요청', '배송_지역_확인', '배송_지역_질문']\n",
            "주문_변경  :  ['주문_변경_확인', '주문_변경_질문', '주문_변경_요청']\n",
            "제품_정보  :  ['제품_정보_확인', '제품_정보_요청', '제품_정보_질문', '제품_정보_비교']\n",
            "배송_일반  :  ['배송_일반_확인', '배송_일반_요청', '배송_일반_질문', '배송_일반_비교']\n",
            "결제_영수증  :  ['결제_영수증_확인', '결제_영수증_질문', '결제_영수증_요청']\n",
            "제품_품질  :  ['제품_품질_질문', '제품_품질_확인', '제품_품질_요청', '제품_품질_비교']\n",
            "배송_방법  :  ['배송_방법_확인', '배송_방법_비교', '배송_방법_질문', '배송_방법_요청']\n",
            "결제_방식  :  ['결제_방식_확인', '결제_방식_요청', '결제_방식_질문', '결제_방식_비교']\n",
            "제품_입고  :  ['제품_입고_질문', '제품_입고_요청', '제품_입고_확인', '제품_입고_비교']\n",
            "교환|반품|환불_방법  :  []\n",
            "구매_변경  :  ['구매_변경_요청', '구매_변경_질문', '구매_변경_확인']\n",
            "교환|반품|환불_시간  :  []\n",
            "주문_오류  :  ['주문_오류_확인', '주문_오류_요청', '주문_오류_질문']\n",
            "포장_방식  :  ['포장_방식_확인', '포장_방식_요청', '포장_방식_비교', '포장_방식_질문']\n",
            "매장_이용  :  ['매장_이용_요청', '매장_이용_질문', '매장_이용_확인', '매장_이용_비교']\n",
            "구매_예약  :  ['구매_예약_요청', '구매_예약_질문']\n",
            "예약_변경  :  ['예약_변경_질문', '예약_변경_요청', '예약_변경_확인']\n",
            "포장_비용  :  ['포장_비용_요청', '포장_비용_확인', '포장_비용_비교', '포장_비용_질문']\n",
            "배송_택배사  :  ['배송_택배사_질문', '배송_택배사_확인', '배송_택배사_요청', '배송_택배사_비교']\n",
            "주문_취소  :  ['주문_취소_확인', '주문_취소_요청', '주문_취소_질문']\n",
            "구매_추가  :  ['구매_추가_확인', '구매_추가_요청', '구매_추가_질문']\n",
            "제품_불량  :  ['제품_불량_요청', '제품_불량_질문', '제품_불량_확인', '제품_불량_비교']\n",
            "제품_날짜  :  ['제품_날짜_요청', '제품_날짜_확인', '제품_날짜_질문', '제품_날짜_비교']\n",
            "구매_제품  :  ['구매_제품_요청', '구매_제품_질문', '구매_제품_확인']\n",
            "제품_일반  :  ['제품_일반_확인', '제품_일반_비교', '제품_일반_요청', '제품_일반_질문']\n",
            "매장_구조  :  ['매장_구조_요청', '매장_구조_질문']\n",
            "제품_시용  :  ['제품_시용_질문', '제품_시용_요청', '제품_시용_확인']\n",
            "제품_소재  :  ['제품_소재_확인', '제품_소재_요청', '제품_소재_질문', '제품_소재_비교']\n"
          ]
        }
      ],
      "source": [
        "chgList = ['예약_취소', '제품_구성', '결제_할인', '배송_비용', '결제_취소', '주문_비품', '제품_방법', '예약_방법', '교환|반품|환불_일반', '제품_원산지', '제품_용도', '배송_날짜', '예약_비용', '결제_일반', '교환|반품|환불_비용', '제품_구매', '매장_부대시설', '결제_오류', '매장_정보', '결제_시기', '결제_수단', '제품_호환', '주문_추가', '구매_오류', '구매_취소', '제품_가격', '주문_제품', '제품_커스텀', '배송_오류', '결제_추가', '포장_일반', '결제_재결제', '제품_추천', '제품_재고', '배송_지역', '주문_변경', '제품_정보', '배송_일반', '결제_영수증', '제품_품질', '배송_방법', '결제_방식', '제품_입고', '교환|반품|환불_방법', '구매_변경', '교환|반품|환불_시간', '주문_오류', '포장_방식', '매장_이용', '구매_예약', '예약_변경', '포장_비용', '배송_택배사', '주문_취소', '구매_추가', '제품_불량', '제품_날짜', '구매_제품', '제품_일반', '매장_구조', '제품_시용', '제품_소재']\n",
        "chgKeyList = []\n",
        "everyKeyList = newDataCombine.인텐트.unique()\n",
        "\n",
        "for i, chgElement in enumerate(chgList):\n",
        "    checkList = [ i for i in everyKeyList if i.startswith(chgElement) == True ] #first/second-intent 를 가진 value들의 list 생성\n",
        "    print(chgElement, ' : ', checkList)\n",
        "    for check in checkList:\n",
        "        mask = newDataCombine['인텐트'].isin([check]) #특정 intent를 가진 원소들의 mask 생성\n",
        "        newDataCombine['인텐트'][mask] = i #index에 해당하는 숫자로 대체"
      ]
    },
    {
      "cell_type": "markdown",
      "source": [
        "[5] 인공지능의 학습 중 오류 제거를 위해 **특수문자를 제거**하고 학습 시간을 위해 **발화문의 길이를 64로 제한**했습니다"
      ],
      "metadata": {
        "id": "gFWMyzyQVRpd"
      }
    },
    {
      "cell_type": "code",
      "source": [
        "newDataCombine[\"발화문\"] = newDataCombine[\"발화문\"].str.replace(pat=r'[^\\w]', repl=r'', regex=True) #정규식을 활용하여 특수문자 제거\n",
        "mask = newDataCombine['발화문'].str.len() < 65 #발화문의 길이를 64자 이내로 제한하는 mask 생성\n",
        "newDataCombine = newDataCombine.loc[mask] #mask를 사용한 길이 제한"
      ],
      "metadata": {
        "id": "ALoHoM2sVRpe"
      },
      "execution_count": null,
      "outputs": []
    },
    {
      "cell_type": "markdown",
      "source": [
        "[6] 올바른 학습이 진행되도록 각 value 별 row 의 개수를 **가장 작은 원소의 개수**로 통일했습니다"
      ],
      "metadata": {
        "id": "8za6XvbOUkgK"
      }
    },
    {
      "cell_type": "code",
      "source": [
        "minCnt = min(newDataCombine.인텐트.value_counts())\n",
        "dfList = []\n",
        "for value in newDataCombine.인텐트.unique():\n",
        "  newDf = newDataCombine[newDataCombine['인텐트'] == value] #각 first/second-intent의 index에 해당하는 원소 리스트 생성\n",
        "  newDf = newDf.sample(n=minCnt) #minCnt에 맞춰 데이터 추출\n",
        "  dfList.append(newDf) #df 리스트에 생성된 각 df 추가\n",
        "newDataCombine = pd.concat(dfList, ignore_index=True)\n",
        "newDataCombine.인텐트.value_counts() #intent 별 맞춰진 개수를 확인"
      ],
      "metadata": {
        "colab": {
          "base_uri": "https://localhost:8080/"
        },
        "outputId": "310b1d83-5d06-42b0-fa53-cde11c7fcb3a",
        "id": "mWWkf0eEUkgL"
      },
      "execution_count": null,
      "outputs": [
        {
          "output_type": "execute_result",
          "data": {
            "text/plain": [
              "58    1334\n",
              "23    1334\n",
              "19    1334\n",
              "40    1334\n",
              "37    1334\n",
              "34    1334\n",
              "60    1334\n",
              "27    1334\n",
              "49    1334\n",
              "18    1334\n",
              "48    1334\n",
              "57    1334\n",
              "15    1334\n",
              "59    1334\n",
              "44    1334\n",
              "32    1334\n",
              "54    1334\n",
              "16    1334\n",
              "24    1334\n",
              "53    1334\n",
              "0     1334\n",
              "35    1334\n",
              "7     1334\n",
              "46    1334\n",
              "12    1334\n",
              "5     1334\n",
              "22    1334\n",
              "50    1334\n",
              "3     1334\n",
              "4     1334\n",
              "6     1334\n",
              "38    1334\n",
              "13    1334\n",
              "10    1334\n",
              "1     1334\n",
              "30    1334\n",
              "61    1334\n",
              "42    1334\n",
              "29    1334\n",
              "9     1334\n",
              "33    1334\n",
              "2     1334\n",
              "52    1334\n",
              "11    1334\n",
              "28    1334\n",
              "51    1334\n",
              "20    1334\n",
              "56    1334\n",
              "47    1334\n",
              "25    1334\n",
              "21    1334\n",
              "39    1334\n",
              "55    1334\n",
              "17    1334\n",
              "31    1334\n",
              "41    1334\n",
              "36    1334\n",
              "26    1334\n",
              "Name: 인텐트, dtype: int64"
            ]
          },
          "metadata": {},
          "execution_count": 202
        }
      ]
    },
    {
      "cell_type": "markdown",
      "source": [
        "[7] train 데이터의 수를 **60,000개로 맞추기 위해** **0.4 비율로 추출**했으며 train 과 test를 **4대 1로** 맞췄습니다"
      ],
      "metadata": {
        "id": "70WUDvX-UygS"
      }
    },
    {
      "cell_type": "code",
      "source": [
        "randomState = random.randrange(1, 1000) #랜덤 시드를 위한 난수 생성\n",
        "newDataCombine = newDataCombine.sample(frac=1)\n",
        "\n",
        "firstTypeTrain = newDataCombine.sample(frac=0.4, random_state=randomState) #개수를 위한 비율 맞추기\n",
        "mask = newDataCombine['발화문'].isin( firstTypeTrain['발화문'] )\n",
        "newDataCombine = newDataCombine[~mask] #추출된 데이터를 제외한 데이터 선정\n",
        "mask = newDataCombine['발화문']\n",
        "firstTypeTest = newDataCombine.sample(frac=0.1, random_state=randomState) #새롭게 10프로 비율로 데이터 추출\n",
        "print(\"train 개수 : \", len(firstTypeTrain), \" test 개수 : \", len(firstTypeTest))"
      ],
      "metadata": {
        "colab": {
          "base_uri": "https://localhost:8080/"
        },
        "outputId": "211e2a2f-9445-47bf-cdaa-f754ae5ccb2a",
        "id": "e2cpWAdpUygS"
      },
      "execution_count": null,
      "outputs": [
        {
          "output_type": "stream",
          "name": "stdout",
          "text": [
            "train 개수 :  30949  test 개수 :  4272\n"
          ]
        }
      ]
    },
    {
      "cell_type": "markdown",
      "source": [
        "[8] train 과 test **모두 균일한 분포**를 맞춘 것을 확인할 수 있습니다"
      ],
      "metadata": {
        "id": "Njb_H3TeUWMM"
      }
    },
    {
      "cell_type": "code",
      "source": [
        "fig, axe = plt.subplots(ncols=1)\n",
        "sns.countplot(x = secondTypeTrain.인텐트)"
      ],
      "metadata": {
        "colab": {
          "base_uri": "https://localhost:8080/"
        },
        "outputId": "98d0d699-ff53-4c0c-ec26-6868f4d8dc5f",
        "id": "fCoUQf_lUWMU"
      },
      "execution_count": null,
      "outputs": [
        {
          "output_type": "execute_result",
          "data": {
            "text/plain": [
              "<matplotlib.axes._subplots.AxesSubplot at 0x7fe02b888950>"
            ]
          },
          "metadata": {},
          "execution_count": 204
        },
        {
          "output_type": "stream",
          "name": "stderr",
          "text": [
            "/usr/local/lib/python3.7/dist-packages/matplotlib/backends/backend_agg.py:214: RuntimeWarning: Glyph 51064 missing from current font.\n",
            "  font.set_text(s, 0.0, flags=flags)\n",
            "/usr/local/lib/python3.7/dist-packages/matplotlib/backends/backend_agg.py:214: RuntimeWarning: Glyph 53584 missing from current font.\n",
            "  font.set_text(s, 0.0, flags=flags)\n",
            "/usr/local/lib/python3.7/dist-packages/matplotlib/backends/backend_agg.py:214: RuntimeWarning: Glyph 53944 missing from current font.\n",
            "  font.set_text(s, 0.0, flags=flags)\n",
            "/usr/local/lib/python3.7/dist-packages/matplotlib/backends/backend_agg.py:183: RuntimeWarning: Glyph 51064 missing from current font.\n",
            "  font.set_text(s, 0, flags=flags)\n",
            "/usr/local/lib/python3.7/dist-packages/matplotlib/backends/backend_agg.py:183: RuntimeWarning: Glyph 53584 missing from current font.\n",
            "  font.set_text(s, 0, flags=flags)\n",
            "/usr/local/lib/python3.7/dist-packages/matplotlib/backends/backend_agg.py:183: RuntimeWarning: Glyph 53944 missing from current font.\n",
            "  font.set_text(s, 0, flags=flags)\n"
          ]
        },
        {
          "output_type": "display_data",
          "data": {
            "text/plain": [
              "<Figure size 432x288 with 1 Axes>"
            ],
            "image/png": "[encoded data removed]"
          },
          "metadata": {
            "needs_background": "light"
          }
        }
      ]
    },
    {
      "cell_type": "code",
      "source": [
        "fig, axe = plt.subplots(ncols=1)\n",
        "sns.countplot(x = secondTypeTest.인텐트)"
      ],
      "metadata": {
        "colab": {
          "base_uri": "https://localhost:8080/"
        },
        "outputId": "0a53b97c-1bc6-4c8f-f92c-2cb8bc84d9ff",
        "id": "GL7phs9mUWMU"
      },
      "execution_count": null,
      "outputs": [
        {
          "output_type": "execute_result",
          "data": {
            "text/plain": [
              "<matplotlib.axes._subplots.AxesSubplot at 0x7fe0431d7190>"
            ]
          },
          "metadata": {},
          "execution_count": 205
        },
        {
          "output_type": "stream",
          "name": "stderr",
          "text": [
            "/usr/local/lib/python3.7/dist-packages/matplotlib/backends/backend_agg.py:214: RuntimeWarning: Glyph 51064 missing from current font.\n",
            "  font.set_text(s, 0.0, flags=flags)\n",
            "/usr/local/lib/python3.7/dist-packages/matplotlib/backends/backend_agg.py:214: RuntimeWarning: Glyph 53584 missing from current font.\n",
            "  font.set_text(s, 0.0, flags=flags)\n",
            "/usr/local/lib/python3.7/dist-packages/matplotlib/backends/backend_agg.py:214: RuntimeWarning: Glyph 53944 missing from current font.\n",
            "  font.set_text(s, 0.0, flags=flags)\n",
            "/usr/local/lib/python3.7/dist-packages/matplotlib/backends/backend_agg.py:183: RuntimeWarning: Glyph 51064 missing from current font.\n",
            "  font.set_text(s, 0, flags=flags)\n",
            "/usr/local/lib/python3.7/dist-packages/matplotlib/backends/backend_agg.py:183: RuntimeWarning: Glyph 53584 missing from current font.\n",
            "  font.set_text(s, 0, flags=flags)\n",
            "/usr/local/lib/python3.7/dist-packages/matplotlib/backends/backend_agg.py:183: RuntimeWarning: Glyph 53944 missing from current font.\n",
            "  font.set_text(s, 0, flags=flags)\n"
          ]
        },
        {
          "output_type": "display_data",
          "data": {
            "text/plain": [
              "<Figure size 432x288 with 1 Axes>"
            ],
            "image/png": "[encoded data removed]"
          },
          "metadata": {
            "needs_background": "light"
          }
        }
      ]
    },
    {
      "cell_type": "markdown",
      "source": [
        "[9] 생성된 train 과 test dataframe 을 **tsv 형식의 파일로 저장**했습니다"
      ],
      "metadata": {
        "id": "u3j9Ds-oUWMU"
      }
    },
    {
      "cell_type": "code",
      "source": [
        "secondTypeTrain.to_csv('/content/drive/MyDrive/Colab Notebooks/result/secondTypeTrain.tsv', index=False, header=None, sep=\"\\t\")\n",
        "secondTypeTest.to_csv('/content/drive/MyDrive/Colab Notebooks/result/secondTypeTest.tsv', index=False, header=None, sep=\"\\t\")"
      ],
      "metadata": {
        "id": "PcogzFLkHYcf"
      },
      "execution_count": null,
      "outputs": []
    },
    {
      "cell_type": "markdown",
      "source": [
        "## PART 3. **third-intend 데이터 전처리**\n",
        "### 데이터의 3번째 데이터인 발화의 intend third part를 판단하기 위한 데이터 전처리 과정입니다"
      ],
      "metadata": {
        "id": "5IYt5VoxHeWY"
      }
    },
    {
      "cell_type": "markdown",
      "source": [
        "[1] 초기에 열었던 파일에서 데이터를 불러왔습니다"
      ],
      "metadata": {
        "id": "qpWkCVqjHybg"
      }
    },
    {
      "cell_type": "code",
      "source": [
        "allNewDataCombine = pd.concat(allData) #초기 파일을 읽은 np array에서 dataframe 생성"
      ],
      "metadata": {
        "id": "gDOzGiv1ngzm"
      },
      "execution_count": null,
      "outputs": []
    },
    {
      "cell_type": "markdown",
      "source": [
        "[2] 3번째 부분에 위치한 **확인 / 비교 / 질문 / 요청 순대로 value 들을 수정**했습니다"
      ],
      "metadata": {
        "id": "E-VazaxiH3bY"
      }
    },
    {
      "cell_type": "code",
      "source": [
        "forCheck = set()\n",
        "for data in allNewDataCombine.인텐트.unique():\n",
        "    forCheck.add(data.split(\"_\")[2]) #세번째 분류 항목들의 고유한 value를 저장\n",
        "print(forCheck)"
      ],
      "metadata": {
        "colab": {
          "base_uri": "https://localhost:8080/"
        },
        "id": "xPv_ifxMnnTt",
        "outputId": "3869c1df-6822-4c1a-a1fb-1deeea52bf9a"
      },
      "execution_count": null,
      "outputs": [
        {
          "output_type": "stream",
          "name": "stdout",
          "text": [
            "{'확인', '비교', '질문', '요청'}\n"
          ]
        }
      ]
    },
    {
      "cell_type": "markdown",
      "source": [
        "[3] 각 value 값에 대응하는 **0 부터의 숫자로 인덱싱**을 매겼습니다"
      ],
      "metadata": {
        "id": "GfklJXemILeY"
      }
    },
    {
      "cell_type": "code",
      "source": [
        "chgList = ['확인', '비교', '질문', '요청'] #기준이 되는 value\n",
        "chgKeyList = []\n",
        "everyKeyList = allNewDataCombine.인텐트.unique() #인텐트 column 의 전체 value set\n",
        "\n",
        "for i, chgElement in enumerate(chgList):\n",
        "    checkList = [ i for i in everyKeyList if i.endswith(chgElement) == True ] #각 value 별 포함되는 원소 값 set 생성\n",
        "    print(chgElement, ' : ', checkList)\n",
        "    for check in checkList: #각 value 를 순회하며 전부 숫자로 변경\n",
        "        mask = allNewDataCombine['인텐트'].isin([check]) #\n",
        "        allNewDataCombine['인텐트'][mask] = i #chgList의 index에 맞춰 값을 변경"
      ],
      "metadata": {
        "colab": {
          "base_uri": "https://localhost:8080/"
        },
        "id": "STh8BlKrnt3Y",
        "outputId": "890cc42c-a08a-448f-9b9e-41bf7e85276a"
      },
      "execution_count": null,
      "outputs": [
        {
          "output_type": "stream",
          "name": "stdout",
          "text": [
            "확인  :  ['제품_일반_확인', '제품_용도_확인', '행사_기간_확인', '포장_일반_확인', '제품_소재_확인', '교환|반품|환불_시간_확인', '포장_방식_확인', '제품_재고_확인', '웹사이트_사용_확인', '제품_가격_확인', '결제_일반_확인', '제품_원산지_확인', '결제_재결제_확인', '결제_방식_확인', '제품_품질_확인', '제품_정보_확인', '결제_영수증_확인', '제품_방법_확인', '멤버십_사용_확인', '교환|반품|환불_일반_확인', '배송_비용_확인', '배송_방법_확인', '포장_비용_확인', '결제_할인_확인', '교환|반품|환불_방법_확인', '결제_추가_확인', '배송_일반_확인', '제품_불량_확인', '멤버십_일반_확인', '제품_호환_확인', 'AS_시간_확인', 'AS_방법_확인', '멤버십_적립_확인', '제품_구성_확인', '행사_유형_확인', 'AS_일반_확인', '배송_날짜_확인', '멤버십_가입_확인', 'AS_비용_확인', '제품_추천_확인', '제품_날짜_확인', '행사_일반_확인', '배송_지역_확인', '결제_수단_확인', '제품_입고_확인', '결제_시기_확인', '배송_택배사_확인', '웹사이트_오류_확인', '교환|반품|환불_비용_확인', '결제_오류_확인', '배송_오류_확인', '결제_취소_확인', '웹사이트_가입_확인', '매장_정보_확인', '매장_이용_확인', '구매_제품_확인', '구매_변경_확인', '구매_추가_확인', '구매_오류_확인', '행사_정보_확인', '구매_취소_확인', '매장_부대시설_확인', '제품_시용_확인', '행사_날짜_확인', '주문_취소_확인', '주문_변경_확인', '예약_방법_확인', '예약_취소_확인', '주문_오류_확인', '멤버십_오류_확인', '주문_비품_확인', '예약_변경_확인', '주문_추가_확인', '예약_비용_확인', '주문_제품_확인', '제품_커스텀_확인']\n",
            "비교  :  ['제품_구성_비교', '제품_원산지_비교', '제품_일반_비교', '결제_일반_비교', '멤버십_일반_비교', '제품_용도_비교', '배송_방법_비교', '포장_방식_비교', '결제_수단_비교', '결제_할인_비교', '제품_품질_비교', '제품_가격_비교', '제품_호환_비교', '제품_추천_비교', '제품_재고_비교', '포장_일반_비교', '제품_소재_비교', '포장_비용_비교', '제품_정보_비교', 'AS_비용_비교', '결제_추가_비교', '제품_방법_비교', '배송_날짜_비교', '멤버십_사용_비교', '결제_오류_비교', '결제_방식_비교', '교환|반품|환불_시간_비교', 'AS_시간_비교', '제품_날짜_비교', '웹사이트_오류_비교', '제품_불량_비교', '배송_비용_비교', '교환|반품|환불_일반_비교', '교환|반품|환불_비용_비교', '배송_일반_비교', '제품_입고_비교', '행사_유형_비교', '행사_기간_비교', '행사_일반_비교', '결제_시기_비교', '웹사이트_사용_비교', '교환|반품|환불_방법_비교', '배송_택배사_비교', '배송_오류_비교', '매장_정보_비교', '행사_정보_비교', '매장_이용_비교']\n",
            "질문  :  ['제품_추천_질문', '결제_일반_질문', '제품_입고_질문', '행사_기간_질문', '결제_할인_질문', '배송_택배사_질문', '제품_원산지_질문', '배송_오류_질문', '결제_수단_질문', 'AS_비용_질문', '제품_품질_질문', '교환|반품|환불_일반_질문', '결제_오류_질문', '결제_취소_질문', '포장_일반_질문', 'AS_시간_질문', '제품_구성_질문', '배송_날짜_질문', '멤버십_가입_질문', '제품_용도_질문', '제품_소재_질문', 'AS_일반_질문', '제품_불량_질문', '멤버십_사용_질문', '교환|반품|환불_비용_질문', '결제_시기_질문', '제품_호환_질문', '멤버십_일반_질문', '배송_비용_질문', '제품_정보_질문', '제품_가격_질문', '웹사이트_사용_질문', '멤버십_적립_질문', '결제_영수증_질문', '제품_재고_질문', '제품_방법_질문', '포장_방식_질문', '배송_방법_질문', '행사_일반_질문', '결제_추가_질문', '교환|반품|환불_시간_질문', '결제_재결제_질문', '웹사이트_가입_질문', '제품_날짜_질문', '교환|반품|환불_방법_질문', '행사_유형_질문', '배송_일반_질문', 'AS_방법_질문', '결제_방식_질문', '웹사이트_오류_질문', '배송_지역_질문', '포장_비용_질문', '멤버십_오류_질문', '제품_일반_질문', '제품_시용_질문', '제품_커스텀_질문', '매장_정보_질문', '매장_이용_질문', '행사_정보_질문', '부가서비스_방법_질문', '행사_날짜_질문', 'AS_날짜_질문', '부가서비스_비용_질문', '구매_예약_질문', '구매_제품_질문', '부가서비스_날짜_질문', '수납_방법_질문', '외래_시간_질문', '수술|입퇴원_생활_질문', '수술|입퇴원_방법_질문', '수술|입퇴원_비용_질문', '외래_방법_질문', '외래_예약_질문', '교환|반품|환불_날짜_질문', '수납_원무_질문', '수술|입퇴원_정보_질문', '매장_구조_질문', '제품_구매_질문', '외래_비용_질문', '수술|입퇴원_예약_질문', '외래_정보_질문', '구매_변경_질문', '구매_취소_질문', '구매_추가_질문', '구매_오류_질문', '매장_부대시설_질문', '예약_취소_질문', '주문_추가_질문', '주문_변경_질문', '예약_변경_질문', '주문_오류_질문', '주문_비품_질문', '예약_비용_질문', '주문_취소_질문', '주문_제품_질문', '예약_방법_질문']\n",
            "요청  :  ['교환|반품|환불_일반_요청', '멤버십_사용_요청', '행사_일반_요청', '결제_추가_요청', '제품_용도_요청', '멤버십_오류_요청', '제품_재고_요청', '웹사이트_가입_요청', '배송_날짜_요청', '포장_비용_요청', '제품_날짜_요청', '멤버십_일반_요청', '행사_유형_요청', '제품_호환_요청', '제품_구성_요청', '결제_일반_요청', '결제_수단_요청', '제품_불량_요청', '제품_소재_요청', '제품_입고_요청', '멤버십_적립_요청', '포장_방식_요청', '제품_원산지_요청', '제품_정보_요청', '결제_취소_요청', '결제_할인_요청', '제품_가격_요청', '웹사이트_사용_요청', '결제_시기_요청', '제품_방법_요청', 'AS_시간_요청', '포장_일반_요청', 'AS_일반_요청', '교환|반품|환불_방법_요청', '제품_품질_요청', '배송_일반_요청', '배송_지역_요청', '배송_방법_요청', 'AS_방법_요청', '결제_영수증_요청', '결제_재결제_요청', '멤버십_가입_요청', '배송_비용_요청', '제품_추천_요청', '제품_일반_요청', '결제_방식_요청', '구매_예약_요청', '행사_기간_요청', '결제_오류_요청', '행사_날짜_요청', '매장_이용_요청', '매장_정보_요청', '부가서비스_날짜_요청', '구매_제품_요청', '부가서비스_비용_요청', '제품_커스텀_요청', '배송_택배사_요청', '제품_시용_요청', 'AS_날짜_요청', '교환|반품|환불_시간_요청', '부가서비스_방법_요청', '배송_오류_요청', 'AS_비용_요청', '교환|반품|환불_비용_요청', '웹사이트_오류_요청', '행사_정보_요청', '수납_원무_요청', '제품_구매_요청', '수납_방법_요청', '외래_예약_요청', '수술|입퇴원_비용_요청', '매장_구조_요청', '외래_방법_요청', '수술|입퇴원_예약_요청', '외래_시간_요청', '외래_비용_요청', '외래_정보_요청', '수술|입퇴원_정보_요청', '교환|반품|환불_날짜_요청', '수술|입퇴원_방법_요청', '수술|입퇴원_생활_요청', '구매_오류_요청', '구매_변경_요청', '매장_부대시설_요청', '구매_추가_요청', '구매_취소_요청', '예약_취소_요청', '예약_비용_요청', '주문_오류_요청', '예약_방법_요청', '주문_추가_요청', '주문_취소_요청', '예약_변경_요청', '주문_제품_요청', '주문_비품_요청', '주문_변경_요청']\n"
          ]
        }
      ]
    },
    {
      "cell_type": "markdown",
      "source": [
        "[4] 각 발화문에 있는 **특수문자들을 제거**하고 학습 시간을 조절하기 위해 **64자 이내**의 발화문만을 선정했습니다"
      ],
      "metadata": {
        "id": "ahIaZJfPISgF"
      }
    },
    {
      "cell_type": "code",
      "source": [
        "allNewDataCombine[\"발화문\"] = allNewDataCombine[\"발화문\"].str.replace(pat=r'[^\\w]', repl=r'', regex=True) #특수문자 제거\n",
        "mask = allNewDataCombine['발화문'].str.len() < 65 #길이 제한을 위한 mask\n",
        "allNewDataCombine = allNewDataCombine.loc[mask] #길이 제한 덮어씌우기"
      ],
      "metadata": {
        "id": "WCs7SUTjOLzi"
      },
      "execution_count": null,
      "outputs": []
    },
    {
      "cell_type": "markdown",
      "source": [
        "[5] 학습의 정확도를 올리기 위해 각 **value 에 따른 row의 개수를 통일**했습니다"
      ],
      "metadata": {
        "id": "df-Jd5zaIiRc"
      }
    },
    {
      "cell_type": "code",
      "source": [
        "minCnt = min(allNewDataCombine.인텐트.value_counts()) #제일 작은 원소의 개수에 맞춰 전체 data 정리\n",
        "dfList = []\n",
        "for value in allNewDataCombine.인텐트.unique():\n",
        "  newDf = allNewDataCombine[allNewDataCombine['인텐트'] == value] #특정 번호에 해당하는 원소의 df 생성\n",
        "  newDf = newDf.sample(n=minCnt) #작은 개수에 맞춰서 추출\n",
        "  dfList.append(newDf) #각 value 별 추출된 df 를 list에 추가\n",
        "allNewDataCombine = pd.concat(dfList, ignore_index=True) #합쳐서 다시 모으기\n",
        "allNewDataCombine.인텐트.value_counts() #균일해진 개수 확인"
      ],
      "metadata": {
        "colab": {
          "base_uri": "https://localhost:8080/"
        },
        "id": "MUgIbmfdz_CX",
        "outputId": "6671f4da-1614-42d1-f074-a1e776341fa2"
      },
      "execution_count": null,
      "outputs": [
        {
          "output_type": "execute_result",
          "data": {
            "text/plain": [
              "0    36668\n",
              "2    36668\n",
              "3    36668\n",
              "1    36668\n",
              "Name: 인텐트, dtype: int64"
            ]
          },
          "metadata": {},
          "execution_count": 211
        }
      ]
    },
    {
      "cell_type": "markdown",
      "source": [
        "[6] train set을 **60,000개** 수준으로 맞춰주며, train과 test를 **4대 1로** 맞췄습니다"
      ],
      "metadata": {
        "id": "GvhOwdbDIjkt"
      }
    },
    {
      "cell_type": "code",
      "source": [
        "randomState = random.randrange(1, 1000) #랜덤 시드 생성\n",
        "allNewDataCombine = allNewDataCombine.sample(frac=1) #순서 랜덤 배치\n",
        "\n",
        "thirdTypeTrain = allNewDataCombine.sample(frac=0.4, random_state=randomState) #0.4 프로 추출\n",
        "mask = allNewDataCombine['발화문'].isin( thirdTypeTrain['발화문'] ) #비복원 추출을 위한 마스크 생성\n",
        "allNewDataCombine = allNewDataCombine[~mask] #추출된 원소 제거\n",
        "thirdTypeTest = allNewDataCombine.sample(frac=0.1, random_state=randomState)\n",
        "print(\"train 개수 : \", len(thirdTypeTrain), \" test 개수 : \", len(thirdTypeTest))"
      ],
      "metadata": {
        "colab": {
          "base_uri": "https://localhost:8080/"
        },
        "id": "AEKyOBUWzAx-",
        "outputId": "38b0b5a6-da2d-45ca-8e9c-86a6c11d268b"
      },
      "execution_count": null,
      "outputs": [
        {
          "output_type": "stream",
          "name": "stdout",
          "text": [
            "train 개수 :  58669  test 개수 :  8048\n"
          ]
        }
      ]
    },
    {
      "cell_type": "markdown",
      "source": [
        "[7] train 과 test **모두 균일한 분포**를 맞춘 것을 확인할 수 있습니다"
      ],
      "metadata": {
        "id": "aZIN68tEJeei"
      }
    },
    {
      "cell_type": "code",
      "source": [
        "fig, axe = plt.subplots(ncols=1)\n",
        "sns.countplot(x = thirdTypeTrain.인텐트)"
      ],
      "metadata": {
        "colab": {
          "base_uri": "https://localhost:8080/"
        },
        "id": "7oL2mED00lNv",
        "outputId": "a88be84c-7a32-4957-e090-23a6fb71541d"
      },
      "execution_count": null,
      "outputs": [
        {
          "output_type": "execute_result",
          "data": {
            "text/plain": [
              "<matplotlib.axes._subplots.AxesSubplot at 0x7fe03abdbd50>"
            ]
          },
          "metadata": {},
          "execution_count": 213
        },
        {
          "output_type": "stream",
          "name": "stderr",
          "text": [
            "/usr/local/lib/python3.7/dist-packages/matplotlib/backends/backend_agg.py:214: RuntimeWarning: Glyph 51064 missing from current font.\n",
            "  font.set_text(s, 0.0, flags=flags)\n",
            "/usr/local/lib/python3.7/dist-packages/matplotlib/backends/backend_agg.py:214: RuntimeWarning: Glyph 53584 missing from current font.\n",
            "  font.set_text(s, 0.0, flags=flags)\n",
            "/usr/local/lib/python3.7/dist-packages/matplotlib/backends/backend_agg.py:214: RuntimeWarning: Glyph 53944 missing from current font.\n",
            "  font.set_text(s, 0.0, flags=flags)\n",
            "/usr/local/lib/python3.7/dist-packages/matplotlib/backends/backend_agg.py:183: RuntimeWarning: Glyph 51064 missing from current font.\n",
            "  font.set_text(s, 0, flags=flags)\n",
            "/usr/local/lib/python3.7/dist-packages/matplotlib/backends/backend_agg.py:183: RuntimeWarning: Glyph 53584 missing from current font.\n",
            "  font.set_text(s, 0, flags=flags)\n",
            "/usr/local/lib/python3.7/dist-packages/matplotlib/backends/backend_agg.py:183: RuntimeWarning: Glyph 53944 missing from current font.\n",
            "  font.set_text(s, 0, flags=flags)\n"
          ]
        },
        {
          "output_type": "display_data",
          "data": {
            "text/plain": [
              "<Figure size 432x288 with 1 Axes>"
            ],
            "image/png": "[encoded data removed]"
          },
          "metadata": {
            "needs_background": "light"
          }
        }
      ]
    },
    {
      "cell_type": "code",
      "source": [
        "fig, axe = plt.subplots(ncols=1)\n",
        "sns.countplot(x = thirdTypeTest.인텐트)"
      ],
      "metadata": {
        "colab": {
          "base_uri": "https://localhost:8080/"
        },
        "id": "tfSa3G2v0oM2",
        "outputId": "801ef4ed-db64-42f9-f29b-9ed8959f4ca8"
      },
      "execution_count": null,
      "outputs": [
        {
          "output_type": "execute_result",
          "data": {
            "text/plain": [
              "<matplotlib.axes._subplots.AxesSubplot at 0x7fe031643f90>"
            ]
          },
          "metadata": {},
          "execution_count": 214
        },
        {
          "output_type": "stream",
          "name": "stderr",
          "text": [
            "/usr/local/lib/python3.7/dist-packages/matplotlib/backends/backend_agg.py:214: RuntimeWarning: Glyph 51064 missing from current font.\n",
            "  font.set_text(s, 0.0, flags=flags)\n",
            "/usr/local/lib/python3.7/dist-packages/matplotlib/backends/backend_agg.py:214: RuntimeWarning: Glyph 53584 missing from current font.\n",
            "  font.set_text(s, 0.0, flags=flags)\n",
            "/usr/local/lib/python3.7/dist-packages/matplotlib/backends/backend_agg.py:214: RuntimeWarning: Glyph 53944 missing from current font.\n",
            "  font.set_text(s, 0.0, flags=flags)\n",
            "/usr/local/lib/python3.7/dist-packages/matplotlib/backends/backend_agg.py:183: RuntimeWarning: Glyph 51064 missing from current font.\n",
            "  font.set_text(s, 0, flags=flags)\n",
            "/usr/local/lib/python3.7/dist-packages/matplotlib/backends/backend_agg.py:183: RuntimeWarning: Glyph 53584 missing from current font.\n",
            "  font.set_text(s, 0, flags=flags)\n",
            "/usr/local/lib/python3.7/dist-packages/matplotlib/backends/backend_agg.py:183: RuntimeWarning: Glyph 53944 missing from current font.\n",
            "  font.set_text(s, 0, flags=flags)\n"
          ]
        },
        {
          "output_type": "display_data",
          "data": {
            "text/plain": [
              "<Figure size 432x288 with 1 Axes>"
            ],
            "image/png": "[encoded data removed]"
          },
          "metadata": {
            "needs_background": "light"
          }
        }
      ]
    },
    {
      "cell_type": "markdown",
      "source": [
        "[8] 추출된 train 과 test 데이터들을 **tsv 파일로 저장**했습니다 "
      ],
      "metadata": {
        "id": "xTXLEn_YJ5Qh"
      }
    },
    {
      "cell_type": "code",
      "source": [
        "thirdTypeTrain.to_csv('/content/drive/MyDrive/Colab Notebooks/result/thirdTypeTrain.tsv', index=False, header=None, sep=\"\\t\")\n",
        "thirdTypeTest.to_csv('/content/drive/MyDrive/Colab Notebooks/result/thirdTypeTest.tsv', index=False, header=None, sep=\"\\t\")"
      ],
      "metadata": {
        "id": "7QBg11Dn0EEC"
      },
      "execution_count": null,
      "outputs": []
    }
  ],
  "metadata": {
    "kernelspec": {
      "display_name": "Python 3",
      "language": "python",
      "name": "python3"
    },
    "language_info": {
      "codemirror_mode": {
        "name": "ipython",
        "version": 3
      },
      "file_extension": ".py",
      "mimetype": "text/x-python",
      "name": "python",
      "nbconvert_exporter": "python",
      "pygments_lexer": "ipython3",
      "version": "3.6.6"
    },
    "colab": {
      "provenance": [],
      "toc_visible": true,
      "include_colab_link": true
    }
  },
  "nbformat": 4,
  "nbformat_minor": 0
}